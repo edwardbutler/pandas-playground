{
 "cells": [
  {
   "cell_type": "code",
   "execution_count": 3,
   "metadata": {},
   "outputs": [],
   "source": [
    "import numpy as np\n",
    "import pandas as pd\n",
    "from pandas import Series, DataFrame"
   ]
  },
  {
   "cell_type": "code",
   "execution_count": 6,
   "metadata": {},
   "outputs": [
    {
     "data": {
      "text/plain": [
       "A    1\n",
       "B    2\n",
       "C    3\n",
       "D    4\n",
       "dtype: int64"
      ]
     },
     "execution_count": 6,
     "metadata": {},
     "output_type": "execute_result"
    }
   ],
   "source": [
    "series = Series([1,2,3,4], index=['A','B','C','D'])\n",
    "series"
   ]
  },
  {
   "cell_type": "code",
   "execution_count": 8,
   "metadata": {},
   "outputs": [
    {
     "data": {
      "text/plain": [
       "A    1.0\n",
       "B    2.0\n",
       "C    3.0\n",
       "D    4.0\n",
       "E    NaN\n",
       "F    NaN\n",
       "dtype: float64"
      ]
     },
     "execution_count": 8,
     "metadata": {},
     "output_type": "execute_result"
    }
   ],
   "source": [
    "series2 = series.reindex(['A','B','C','D','E','F'])\n",
    "series2"
   ]
  },
  {
   "cell_type": "code",
   "execution_count": 9,
   "metadata": {},
   "outputs": [
    {
     "data": {
      "text/plain": [
       "A    1\n",
       "B    2\n",
       "C    3\n",
       "D    4\n",
       "E    0\n",
       "F    0\n",
       "dtype: int64"
      ]
     },
     "execution_count": 9,
     "metadata": {},
     "output_type": "execute_result"
    }
   ],
   "source": [
    "# Define fill values\n",
    "series3 = series.reindex(['A','B','C','D','E','F'],fill_value=0)\n",
    "series3"
   ]
  },
  {
   "cell_type": "code",
   "execution_count": 16,
   "metadata": {},
   "outputs": [
    {
     "data": {
      "text/plain": [
       "0          Texas\n",
       "5     California\n",
       "10      New York\n",
       "15       Florida\n",
       "dtype: object"
      ]
     },
     "execution_count": 16,
     "metadata": {},
     "output_type": "execute_result"
    }
   ],
   "source": [
    "# Interlopate fill values\n",
    "series4 = Series(['Texas', 'California', 'New York', 'Florida'],index=[0,5,10,15])\n",
    "series4"
   ]
  },
  {
   "cell_type": "code",
   "execution_count": 19,
   "metadata": {},
   "outputs": [
    {
     "data": {
      "text/plain": [
       "0          Texas\n",
       "1          Texas\n",
       "2          Texas\n",
       "3          Texas\n",
       "4          Texas\n",
       "5     California\n",
       "6     California\n",
       "7     California\n",
       "8     California\n",
       "9     California\n",
       "10      New York\n",
       "11      New York\n",
       "12      New York\n",
       "13      New York\n",
       "14      New York\n",
       "dtype: object"
      ]
     },
     "execution_count": 19,
     "metadata": {},
     "output_type": "execute_result"
    }
   ],
   "source": [
    "series4.reindex(range(15),method='ffill')"
   ]
  },
  {
   "cell_type": "code",
   "execution_count": 22,
   "metadata": {},
   "outputs": [
    {
     "data": {
      "text/html": [
       "<div>\n",
       "<style>\n",
       "    .dataframe thead tr:only-child th {\n",
       "        text-align: right;\n",
       "    }\n",
       "\n",
       "    .dataframe thead th {\n",
       "        text-align: left;\n",
       "    }\n",
       "\n",
       "    .dataframe tbody tr th {\n",
       "        vertical-align: top;\n",
       "    }\n",
       "</style>\n",
       "<table border=\"1\" class=\"dataframe\">\n",
       "  <thead>\n",
       "    <tr style=\"text-align: right;\">\n",
       "      <th></th>\n",
       "      <th>col1</th>\n",
       "      <th>col2</th>\n",
       "      <th>col3</th>\n",
       "      <th>col4</th>\n",
       "      <th>col5</th>\n",
       "    </tr>\n",
       "  </thead>\n",
       "  <tbody>\n",
       "    <tr>\n",
       "      <th>A</th>\n",
       "      <td>0.432460</td>\n",
       "      <td>0.457954</td>\n",
       "      <td>0.442389</td>\n",
       "      <td>0.751356</td>\n",
       "      <td>0.108052</td>\n",
       "    </tr>\n",
       "    <tr>\n",
       "      <th>B</th>\n",
       "      <td>0.956664</td>\n",
       "      <td>0.901127</td>\n",
       "      <td>0.195580</td>\n",
       "      <td>0.717819</td>\n",
       "      <td>0.893159</td>\n",
       "    </tr>\n",
       "    <tr>\n",
       "      <th>C</th>\n",
       "      <td>0.001796</td>\n",
       "      <td>0.516071</td>\n",
       "      <td>0.452506</td>\n",
       "      <td>0.791838</td>\n",
       "      <td>0.908690</td>\n",
       "    </tr>\n",
       "    <tr>\n",
       "      <th>D</th>\n",
       "      <td>0.880011</td>\n",
       "      <td>0.170966</td>\n",
       "      <td>0.791421</td>\n",
       "      <td>0.999524</td>\n",
       "      <td>0.255429</td>\n",
       "    </tr>\n",
       "    <tr>\n",
       "      <th>E</th>\n",
       "      <td>0.928628</td>\n",
       "      <td>0.330850</td>\n",
       "      <td>0.410848</td>\n",
       "      <td>0.904586</td>\n",
       "      <td>0.600912</td>\n",
       "    </tr>\n",
       "  </tbody>\n",
       "</table>\n",
       "</div>"
      ],
      "text/plain": [
       "       col1      col2      col3      col4      col5\n",
       "A  0.432460  0.457954  0.442389  0.751356  0.108052\n",
       "B  0.956664  0.901127  0.195580  0.717819  0.893159\n",
       "C  0.001796  0.516071  0.452506  0.791838  0.908690\n",
       "D  0.880011  0.170966  0.791421  0.999524  0.255429\n",
       "E  0.928628  0.330850  0.410848  0.904586  0.600912"
      ]
     },
     "execution_count": 22,
     "metadata": {},
     "output_type": "execute_result"
    }
   ],
   "source": [
    "# Dataframe reindexing\n",
    "\n",
    "df = DataFrame(np.random.random(25).reshape((5,5)),index=['A','B','C','D','E'],columns=['col1','col2','col3'\n",
    "                                                                                       ,'col4','col5'])\n",
    "df"
   ]
  },
  {
   "cell_type": "code",
   "execution_count": 28,
   "metadata": {},
   "outputs": [
    {
     "data": {
      "text/html": [
       "<div>\n",
       "<style>\n",
       "    .dataframe thead tr:only-child th {\n",
       "        text-align: right;\n",
       "    }\n",
       "\n",
       "    .dataframe thead th {\n",
       "        text-align: left;\n",
       "    }\n",
       "\n",
       "    .dataframe tbody tr th {\n",
       "        vertical-align: top;\n",
       "    }\n",
       "</style>\n",
       "<table border=\"1\" class=\"dataframe\">\n",
       "  <thead>\n",
       "    <tr style=\"text-align: right;\">\n",
       "      <th></th>\n",
       "      <th>col1</th>\n",
       "      <th>col2</th>\n",
       "      <th>col3</th>\n",
       "      <th>col4</th>\n",
       "      <th>col5</th>\n",
       "      <th>col6</th>\n",
       "    </tr>\n",
       "  </thead>\n",
       "  <tbody>\n",
       "    <tr>\n",
       "      <th>A</th>\n",
       "      <td>0.432460</td>\n",
       "      <td>0.457954</td>\n",
       "      <td>0.442389</td>\n",
       "      <td>0.751356</td>\n",
       "      <td>0.108052</td>\n",
       "      <td>NaN</td>\n",
       "    </tr>\n",
       "    <tr>\n",
       "      <th>B</th>\n",
       "      <td>0.956664</td>\n",
       "      <td>0.901127</td>\n",
       "      <td>0.195580</td>\n",
       "      <td>0.717819</td>\n",
       "      <td>0.893159</td>\n",
       "      <td>NaN</td>\n",
       "    </tr>\n",
       "    <tr>\n",
       "      <th>C</th>\n",
       "      <td>0.001796</td>\n",
       "      <td>0.516071</td>\n",
       "      <td>0.452506</td>\n",
       "      <td>0.791838</td>\n",
       "      <td>0.908690</td>\n",
       "      <td>NaN</td>\n",
       "    </tr>\n",
       "    <tr>\n",
       "      <th>D</th>\n",
       "      <td>0.880011</td>\n",
       "      <td>0.170966</td>\n",
       "      <td>0.791421</td>\n",
       "      <td>0.999524</td>\n",
       "      <td>0.255429</td>\n",
       "      <td>NaN</td>\n",
       "    </tr>\n",
       "    <tr>\n",
       "      <th>E</th>\n",
       "      <td>0.928628</td>\n",
       "      <td>0.330850</td>\n",
       "      <td>0.410848</td>\n",
       "      <td>0.904586</td>\n",
       "      <td>0.600912</td>\n",
       "      <td>NaN</td>\n",
       "    </tr>\n",
       "    <tr>\n",
       "      <th>F</th>\n",
       "      <td>NaN</td>\n",
       "      <td>NaN</td>\n",
       "      <td>NaN</td>\n",
       "      <td>NaN</td>\n",
       "      <td>NaN</td>\n",
       "      <td>NaN</td>\n",
       "    </tr>\n",
       "  </tbody>\n",
       "</table>\n",
       "</div>"
      ],
      "text/plain": [
       "       col1      col2      col3      col4      col5  col6\n",
       "A  0.432460  0.457954  0.442389  0.751356  0.108052   NaN\n",
       "B  0.956664  0.901127  0.195580  0.717819  0.893159   NaN\n",
       "C  0.001796  0.516071  0.452506  0.791838  0.908690   NaN\n",
       "D  0.880011  0.170966  0.791421  0.999524  0.255429   NaN\n",
       "E  0.928628  0.330850  0.410848  0.904586  0.600912   NaN\n",
       "F       NaN       NaN       NaN       NaN       NaN   NaN"
      ]
     },
     "execution_count": 28,
     "metadata": {},
     "output_type": "execute_result"
    }
   ],
   "source": [
    "df2 = df.reindex(['A','B','C','D','E','F'])\n",
    "df2.reindex(columns=['col1','col2','col3','col4','col5','col6'])"
   ]
  }
 ],
 "metadata": {
  "kernelspec": {
   "display_name": "Python 2",
   "language": "python",
   "name": "python2"
  },
  "language_info": {
   "codemirror_mode": {
    "name": "ipython",
    "version": 2
   },
   "file_extension": ".py",
   "mimetype": "text/x-python",
   "name": "python",
   "nbconvert_exporter": "python",
   "pygments_lexer": "ipython2",
   "version": "2.7.14"
  }
 },
 "nbformat": 4,
 "nbformat_minor": 2
}
